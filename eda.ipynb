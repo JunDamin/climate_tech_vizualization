{
 "cells": [
  {
   "cell_type": "markdown",
   "id": "89ca5185-66ee-48ff-9290-49a862e18938",
   "metadata": {},
   "source": [
    "# 기후기술 무엇을 보고 싶을까?"
   ]
  },
  {
   "cell_type": "code",
   "execution_count": null,
   "id": "3ca3a1e7-61cf-4793-90dc-b9ed44fce849",
   "metadata": {},
   "outputs": [],
   "source": [
    "import "
   ]
  }
 ],
 "metadata": {
  "kernelspec": {
   "display_name": "Python 3",
   "language": "python",
   "name": "python3"
  },
  "language_info": {
   "codemirror_mode": {
    "name": "ipython",
    "version": 3
   },
   "file_extension": ".py",
   "mimetype": "text/x-python",
   "name": "python",
   "nbconvert_exporter": "python",
   "pygments_lexer": "ipython3",
   "version": "3.8.5"
  }
 },
 "nbformat": 4,
 "nbformat_minor": 5
}
