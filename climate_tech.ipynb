{
 "cells": [
  {
   "cell_type": "markdown",
   "id": "38aadf0e",
   "metadata": {
    "tags": []
   },
   "source": [
    "# Toward \"Common Responsibility, Different Burden\"\n",
    "\n",
    "## 온실가스와 기후기술\n",
    "\n",
    "기후변화는 이산화탄소로 대표되는 인간의 온실가스로 촉발된 전지구적 변화를 의미합니다.\n",
    "지구의 기후는 수만년 단위의 사이클로 순환하곤 하였습니다만, 최근의 급격한 변화는 인류의 활동으로 촉발된 결과입니다.\n",
    "이렇게 단기간의 큰 변화가 일어난다면, 인류를 포함한 생태계가 적응할 수 있는 시간을 확보할 수 없어 궁극적으로는 과거에 여러 차례 있었던 대멸종 사건이 발생할 것입니다.\n",
    "\n",
    "이런 문제를 해결하고자 인류는 기후변화에 대해 공동의 대응을 선언하였으며 2020년에 시행된 파리협정에 따라 각국은 기후위기 해결을 위해 노력을 기울이고 있습니다."
   ]
  },
  {
   "cell_type": "markdown",
   "id": "14487b9a",
   "metadata": {
    "tags": []
   },
   "source": [
    "### 지속성장을 위한 키\n",
    "\n",
    "기후변화를 촉발하지 않으면서 지속가능한 경제적 성장을 이루기 위해서는 기후기술이 필수적입니다.\n",
    "우리나라의 경우 기후기술 관리를 위해서 분류체계를 수립했습니다."
   ]
  },
  {
   "cell_type": "code",
   "execution_count": 1,
   "id": "e7173dc9",
   "metadata": {
    "ExecuteTime": {
     "end_time": "2022-07-10T14:20:16.290080Z",
     "start_time": "2022-07-10T14:20:16.255029Z"
    }
   },
   "outputs": [],
   "source": [
    "from IPython.display import IFrame\n",
    "IFrame(src=\"climate_tech.html\", width=900, height=650)"
   ]
  },
  {
   "cell_type": "markdown",
   "id": "7d54d5d7",
   "metadata": {
    "tags": []
   },
   "source": [
    "기후위기 해결에 있어 기후기술이 왜 중요할까요? \n",
    "\n",
    "인류의 활동을 집약적으로 볼 수 있는 GDP와 온실가스와의 관계를 보면 알 수 있습니다.\n",
    "아래 그래프에서 확인할 수 있는 것처럼 인류의 활동에 발생하는 온실가스는 경제규모(GDP)와 비례하는 경향을 확인할 수 있습니다."
   ]
  },
  {
   "cell_type": "code",
   "execution_count": 2,
   "id": "b8728051",
   "metadata": {
    "ExecuteTime": {
     "end_time": "2022-07-10T14:20:16.321131Z",
     "start_time": "2022-07-10T14:20:16.311779Z"
    },
    "scrolled": false
   },
   "outputs": [
    {
     "data": {
      "text/html": [
       "\n",
       "        <iframe\n",
       "            width=\"900\"\n",
       "            height=\"600\"\n",
       "            src=\"gdp_vs_emission_of_world.html\"\n",
       "            frameborder=\"0\"\n",
       "            allowfullscreen\n",
       "        ></iframe>\n",
       "        "
      ],
      "text/plain": [
       "<IPython.lib.display.IFrame at 0x7fc51d5239d0>"
      ]
     },
     "execution_count": 2,
     "metadata": {},
     "output_type": "execute_result"
    }
   ],
   "source": [
    "IFrame(src=\"gdp_vs_emission_of_world.html\", width=900, height=600)"
   ]
  },
  {
   "cell_type": "markdown",
   "id": "fb00ecec",
   "metadata": {},
   "source": [
    "## 기후기술의 이전은 왜 중요할까?\n",
    "\n",
    "한 국가만 빼고 모든 나라가 온실가스를 배출하지 않는다면 기후변화가 멈출까요? \n",
    "\n",
    "기후변화는 지구 전체에 걸친 시스템에 영향을 주기 때문에 모두가 노력하지 않으면 결국 모두가 영향을 받을 수밖에 없습니다.\n",
    "\n",
    "### 중고소득국의 탄소배출량 추월\n",
    "\n",
    "온실가스 배출량은 고소득국가에서 가장 많다가 2006년을 기점으로는 중고소득국이 고소득국을 추월하고 있습니다.\n",
    "\n",
    "중국으로 대표되는 신흥경제대국의 영향으로 온실가스 저감 문제가 더이상 선진국들만의 문제가 아님을 명백히 보여주는 것입니다."
   ]
  },
  {
   "cell_type": "code",
   "execution_count": 3,
   "id": "b13bd5ae",
   "metadata": {
    "ExecuteTime": {
     "end_time": "2022-07-10T14:20:16.347019Z",
     "start_time": "2022-07-10T14:20:16.336029Z"
    }
   },
   "outputs": [
    {
     "data": {
      "text/html": [
       "\n",
       "        <iframe\n",
       "            width=\"900\"\n",
       "            height=\"600\"\n",
       "            src=\"emission_by_income_group.html\"\n",
       "            frameborder=\"0\"\n",
       "            allowfullscreen\n",
       "        ></iframe>\n",
       "        "
      ],
      "text/plain": [
       "<IPython.lib.display.IFrame at 0x7fc51d561040>"
      ]
     },
     "execution_count": 3,
     "metadata": {},
     "output_type": "execute_result"
    }
   ],
   "source": [
    "IFrame(src=\"emission_by_income_group.html\", width=900, height=600)"
   ]
  },
  {
   "cell_type": "markdown",
   "id": "4f6c0efd",
   "metadata": {},
   "source": [
    "### 기술의 차이로 GDP 당 배출량 차이 발생"
   ]
  },
  {
   "cell_type": "code",
   "execution_count": 4,
   "id": "0ea45aa3",
   "metadata": {
    "ExecuteTime": {
     "end_time": "2022-07-10T14:20:16.359873Z",
     "start_time": "2022-07-10T14:20:16.351659Z"
    },
    "scrolled": false
   },
   "outputs": [
    {
     "data": {
      "text/html": [
       "\n",
       "        <iframe\n",
       "            width=\"900\"\n",
       "            height=\"600\"\n",
       "            src=\"gdp_vs_emission_by_income_group.html\"\n",
       "            frameborder=\"0\"\n",
       "            allowfullscreen\n",
       "        ></iframe>\n",
       "        "
      ],
      "text/plain": [
       "<IPython.lib.display.IFrame at 0x7fc51d5610d0>"
      ]
     },
     "execution_count": 4,
     "metadata": {},
     "output_type": "execute_result"
    }
   ],
   "source": [
    "IFrame(src=\"gdp_vs_emission_by_income_group.html\", width=900, height=600)"
   ]
  },
  {
   "cell_type": "markdown",
   "id": "914d3a29",
   "metadata": {},
   "source": [
    "유럽과 미국 등 고소득국들은 2007년을 정점으로 배출량이 정체 혹은 하락하는 완만한 기울기를 나타냅니다. 국가들의 소득수준이 낮아질수록 GDP 대비 온실가스 배출량(그래프의 기울기)이 높아지는 것을 볼 수 있습니다.\n",
    "\n",
    "이러한 경향은 고소득국과 다른 국가간의 기술수준이 차이가 있음을 암시하며, 개발도상국에 신속하게 기후기술이 확산될 수 있도록 지원하지 않는다면 온실가스 감축은 달성하기 어려울 것을 보여주고 있습니다."
   ]
  },
  {
   "cell_type": "markdown",
   "id": "99d1088c",
   "metadata": {},
   "source": [
    "## 또 한가지 기억해야 할 것 : 기후변화는 이미 시작되었다"
   ]
  },
  {
   "cell_type": "code",
   "execution_count": 5,
   "id": "96a98045",
   "metadata": {
    "ExecuteTime": {
     "end_time": "2022-07-10T14:20:16.372697Z",
     "start_time": "2022-07-10T14:20:16.364316Z"
    }
   },
   "outputs": [
    {
     "data": {
      "text/html": [
       "\n",
       "        <iframe\n",
       "            width=\"900\"\n",
       "            height=\"600\"\n",
       "            src=\"disaster.html\"\n",
       "            frameborder=\"0\"\n",
       "            allowfullscreen\n",
       "        ></iframe>\n",
       "        "
      ],
      "text/plain": [
       "<IPython.lib.display.IFrame at 0x7fc51d5618e0>"
      ]
     },
     "execution_count": 5,
     "metadata": {},
     "output_type": "execute_result"
    }
   ],
   "source": [
    "IFrame(src=\"disaster.html\", width=900, height=600)"
   ]
  },
  {
   "cell_type": "markdown",
   "id": "c472e10e",
   "metadata": {},
   "source": [
    "기후변화 대응 과정에서 기억해야 하는 점은 기후변화가 이미 시작되었다는 점입니다.\n",
    "과거 자료를 바탕으로 보면 장기적으로 기후관련 재난 발생 빈도가 높아지고 있습니다.\n",
    "이 모든 원인이 기후변화는 아니겠지만, 일부 기여하고 있음은 부정할 수 없을 것입니다."
   ]
  },
  {
   "cell_type": "markdown",
   "id": "02382bb0",
   "metadata": {},
   "source": [
    "### 그렇다면, 어느 나라가 취약할까요?"
   ]
  },
  {
   "cell_type": "code",
   "execution_count": 6,
   "id": "19c3917e",
   "metadata": {
    "ExecuteTime": {
     "end_time": "2022-07-10T14:20:16.383839Z",
     "start_time": "2022-07-10T14:20:16.376212Z"
    }
   },
   "outputs": [
    {
     "data": {
      "text/html": [
       "\n",
       "        <iframe\n",
       "            width=\"900\"\n",
       "            height=\"600\"\n",
       "            src=\"gdp_vs_vulnerability.html\"\n",
       "            frameborder=\"0\"\n",
       "            allowfullscreen\n",
       "        ></iframe>\n",
       "        "
      ],
      "text/plain": [
       "<IPython.lib.display.IFrame at 0x7fc51d561550>"
      ]
     },
     "execution_count": 6,
     "metadata": {},
     "output_type": "execute_result"
    }
   ],
   "source": [
    "IFrame(src=\"gdp_vs_vulnerability.html\", width=900, height=600)"
   ]
  },
  {
   "cell_type": "markdown",
   "id": "ab5d2096",
   "metadata": {},
   "source": [
    "예상하다시피 경제적으로 가난한 나라가 더 취약함을 알 수 있습니다.\n",
    "\n",
    "온실가스 배출량이 경제규모와 비례했던 것을 고려하면 이는 바람직하지 못한 결과입니다.\n",
    "\n",
    "문제의 원인이 된 탄소배출은 부유한 나라일 수록 많이 했는데 그 피해는 가난한 나라가 더 많이 보게되는 상황이라는 것입니다.\n",
    "\n",
    "따라서 이런 기후변화 적응을 위한 기술 지원은 선택이 아닌, 선진국들의 의무라는 주장이 대두됩니다."
   ]
  },
  {
   "cell_type": "markdown",
   "id": "0f4d70cc",
   "metadata": {},
   "source": [
    "## 기후기술의 이전은 선진국의 의무\n",
    "\n",
    "기후변화는 화석연료를 기반으로 한 산업혁명의 대가입니다.\n",
    "\n",
    "따라서 경제적 성공을 달성한 부유한 국가들은 이를 지원해야만 하는 의무가 있다고 여겨집니다.\n",
    "기술의 독점으로 경제적 이익을 추구하기보다는 인도주의적 관점에서 접근해야 한다는 것입니다.\n",
    "\n",
    "아래와 같이 기후기술에 대한 수요를 볼 수 있습니다.\n",
    "\n",
    "선진국들이 보유하고 있는 이런 기후기술이 필요한 곳에 조속히 확산될 수 있도록 해야 할 것입니다."
   ]
  },
  {
   "cell_type": "code",
   "execution_count": 7,
   "id": "82dc1706",
   "metadata": {
    "ExecuteTime": {
     "end_time": "2022-07-10T14:20:16.420334Z",
     "start_time": "2022-07-10T14:20:16.414187Z"
    }
   },
   "outputs": [
    {
     "data": {
      "text/html": [
       "\n",
       "        <iframe\n",
       "            width=\"1100\"\n",
       "            height=\"1100\"\n",
       "            src=\"climate_tech_demand.html\"\n",
       "            frameborder=\"0\"\n",
       "            allowfullscreen\n",
       "        ></iframe>\n",
       "        "
      ],
      "text/plain": [
       "<IPython.lib.display.IFrame at 0x7fc51d5616a0>"
      ]
     },
     "execution_count": 7,
     "metadata": {},
     "output_type": "execute_result"
    }
   ],
   "source": [
    "IFrame(src=\"climate_tech_demand.html\", width=1100, height=1100)"
   ]
  },
  {
   "cell_type": "markdown",
   "id": "36c88e11",
   "metadata": {},
   "source": [
    "## 그래프 작성 코드"
   ]
  },
  {
   "cell_type": "markdown",
   "id": "6420821b",
   "metadata": {},
   "source": [
    "### Data Processing"
   ]
  },
  {
   "cell_type": "code",
   "execution_count": 8,
   "id": "a5fbd4af",
   "metadata": {
    "ExecuteTime": {
     "end_time": "2022-07-10T14:20:20.731980Z",
     "start_time": "2022-07-10T14:20:16.426693Z"
    },
    "execution": {
     "iopub.execute_input": "2022-07-10T09:32:22.567607Z",
     "iopub.status.busy": "2022-07-10T09:32:22.567217Z",
     "iopub.status.idle": "2022-07-10T09:32:22.575514Z",
     "shell.execute_reply": "2022-07-10T09:32:22.573553Z",
     "shell.execute_reply.started": "2022-07-10T09:32:22.567572Z"
    },
    "tags": []
   },
   "outputs": [],
   "source": [
    "import pandas as pd\n",
    "import plotly.express as px\n",
    "from pyecharts.charts import Bar, Timeline, Sunburst\n",
    "from pyecharts import options as opts\n",
    "import os\n",
    "import warnings\n",
    "warnings.filterwarnings(action='ignore')"
   ]
  },
  {
   "cell_type": "code",
   "execution_count": 9,
   "id": "eb267eca",
   "metadata": {
    "ExecuteTime": {
     "end_time": "2022-07-10T14:20:21.354290Z",
     "start_time": "2022-07-10T14:20:20.737210Z"
    },
    "execution": {
     "iopub.execute_input": "2022-07-10T09:32:22.945636Z",
     "iopub.status.busy": "2022-07-10T09:32:22.945268Z",
     "iopub.status.idle": "2022-07-10T09:32:23.030259Z",
     "shell.execute_reply": "2022-07-10T09:32:23.028157Z",
     "shell.execute_reply.started": "2022-07-10T09:32:22.945604Z"
    },
    "tags": []
   },
   "outputs": [],
   "source": [
    "# Data Source : World Bank\n",
    "country_df = pd.read_excel(\"data/meta_data/CLASS.xls\", header=4).iloc[1:, 2:].drop(\"X\", axis=1).dropna(subset=[\"Code\"]).set_index(\"Code\")\n",
    "\n",
    "# Data Source : Climate Watch\n",
    "# import and meltdata\n",
    "gdp_df = pd.read_csv(\"data/ClimateWatch_AllData/ClimateWatch_SocioEconomics/CW_gdp.csv\").iloc[:, 1:]\n",
    "gdp_data = gdp_df.melt(id_vars=[\"Country Name\", \"Country Code\", \"Indicator Code\"], var_name=\"Year\", value_name=\"GDP\")\n",
    "\n",
    "population_df = pd.read_csv(\"data/ClimateWatch_AllData/ClimateWatch_SocioEconomics/CW_population.csv\").iloc[:, 1:]\n",
    "population_data = population_df.melt(id_vars=[\"Country Name\", \"Country Code\", \"Indicator Code\"], var_name=\"Year\", value_name=\"Population\")\n",
    "\n",
    "ghg_df = pd.read_csv(\"data/ClimateWatch_AllData/ClimateWatch_HistoricalEmissions/CW_HistoricalEmissions_CAIT.csv\")\n",
    "ghg_data = ghg_df.melt(id_vars=[\"Country\", \"Source\", \"Sector\", \"Gas\"], var_name=\"Year\", value_name=\"Emission\")"
   ]
  },
  {
   "cell_type": "code",
   "execution_count": 10,
   "id": "0797593b",
   "metadata": {
    "ExecuteTime": {
     "end_time": "2022-07-10T14:20:21.374715Z",
     "start_time": "2022-07-10T14:20:21.357585Z"
    },
    "execution": {
     "iopub.execute_input": "2022-07-10T09:32:24.090769Z",
     "iopub.status.busy": "2022-07-10T09:32:24.090369Z",
     "iopub.status.idle": "2022-07-10T09:32:24.111082Z",
     "shell.execute_reply": "2022-07-10T09:32:24.108836Z",
     "shell.execute_reply.started": "2022-07-10T09:32:24.090734Z"
    },
    "tags": []
   },
   "outputs": [
    {
     "data": {
      "text/plain": [
       "Index(['country', 'poverty_year', 'poverty_14', 'climate_risks',\n",
       "       'climate_risks_rank', 'vulnerability', 'vulnerability_rank',\n",
       "       'readiness', 'readiness_rank', 'wb_urls', 'hazard_1', 'hazard_2',\n",
       "       'hazard_3', 'hazard_4', 'hazard_5', 'hazard_6', 'hazard_7', 'hazard_8',\n",
       "       'hazard_9', 'hazard_10', 'hazard_11'],\n",
       "      dtype='object')"
      ]
     },
     "execution_count": 10,
     "metadata": {},
     "output_type": "execute_result"
    }
   ],
   "source": [
    "# Data Source : Climate Watch\n",
    "adapt_df = pd.read_csv(\"data/ClimateWatch_AllData/ClimateWatch_Adaptation/CW_adaptation.csv\")\n",
    "adapt_df.columns"
   ]
  },
  {
   "cell_type": "code",
   "execution_count": 11,
   "id": "b8c0a53f",
   "metadata": {
    "ExecuteTime": {
     "end_time": "2022-07-10T14:20:30.015377Z",
     "start_time": "2022-07-10T14:20:21.379235Z"
    },
    "execution": {
     "iopub.execute_input": "2022-07-10T09:32:24.362649Z",
     "iopub.status.busy": "2022-07-10T09:32:24.362257Z",
     "iopub.status.idle": "2022-07-10T09:32:32.418336Z",
     "shell.execute_reply": "2022-07-10T09:32:32.416590Z",
     "shell.execute_reply.started": "2022-07-10T09:32:24.362616Z"
    },
    "tags": []
   },
   "outputs": [
    {
     "data": {
      "text/html": [
       "<div>\n",
       "<style scoped>\n",
       "    .dataframe tbody tr th:only-of-type {\n",
       "        vertical-align: middle;\n",
       "    }\n",
       "\n",
       "    .dataframe tbody tr th {\n",
       "        vertical-align: top;\n",
       "    }\n",
       "\n",
       "    .dataframe thead th {\n",
       "        text-align: right;\n",
       "    }\n",
       "</style>\n",
       "<table border=\"1\" class=\"dataframe\">\n",
       "  <thead>\n",
       "    <tr style=\"text-align: right;\">\n",
       "      <th></th>\n",
       "      <th>Country</th>\n",
       "      <th>Source</th>\n",
       "      <th>Sector</th>\n",
       "      <th>Gas</th>\n",
       "      <th>Year</th>\n",
       "      <th>Emission</th>\n",
       "      <th>Country Name</th>\n",
       "      <th>Region</th>\n",
       "      <th>Income group</th>\n",
       "    </tr>\n",
       "  </thead>\n",
       "  <tbody>\n",
       "    <tr>\n",
       "      <th>0</th>\n",
       "      <td>AFG</td>\n",
       "      <td>CAIT</td>\n",
       "      <td>Total excluding LUCF</td>\n",
       "      <td>All GHG</td>\n",
       "      <td>1990</td>\n",
       "      <td>11.968960</td>\n",
       "      <td>Afghanistan</td>\n",
       "      <td>South Asia</td>\n",
       "      <td>Low income</td>\n",
       "    </tr>\n",
       "    <tr>\n",
       "      <th>1</th>\n",
       "      <td>AFG</td>\n",
       "      <td>CAIT</td>\n",
       "      <td>Total including LUCF</td>\n",
       "      <td>All GHG</td>\n",
       "      <td>1990</td>\n",
       "      <td>9.580450</td>\n",
       "      <td>Afghanistan</td>\n",
       "      <td>South Asia</td>\n",
       "      <td>Low income</td>\n",
       "    </tr>\n",
       "    <tr>\n",
       "      <th>2</th>\n",
       "      <td>AFG</td>\n",
       "      <td>CAIT</td>\n",
       "      <td>Energy</td>\n",
       "      <td>All GHG</td>\n",
       "      <td>1990</td>\n",
       "      <td>2.614785</td>\n",
       "      <td>Afghanistan</td>\n",
       "      <td>South Asia</td>\n",
       "      <td>Low income</td>\n",
       "    </tr>\n",
       "    <tr>\n",
       "      <th>3</th>\n",
       "      <td>AFG</td>\n",
       "      <td>CAIT</td>\n",
       "      <td>Industrial Processes</td>\n",
       "      <td>All GHG</td>\n",
       "      <td>1990</td>\n",
       "      <td>0.052709</td>\n",
       "      <td>Afghanistan</td>\n",
       "      <td>South Asia</td>\n",
       "      <td>Low income</td>\n",
       "    </tr>\n",
       "    <tr>\n",
       "      <th>4</th>\n",
       "      <td>AFG</td>\n",
       "      <td>CAIT</td>\n",
       "      <td>Agriculture</td>\n",
       "      <td>All GHG</td>\n",
       "      <td>1990</td>\n",
       "      <td>8.072853</td>\n",
       "      <td>Afghanistan</td>\n",
       "      <td>South Asia</td>\n",
       "      <td>Low income</td>\n",
       "    </tr>\n",
       "    <tr>\n",
       "      <th>...</th>\n",
       "      <td>...</td>\n",
       "      <td>...</td>\n",
       "      <td>...</td>\n",
       "      <td>...</td>\n",
       "      <td>...</td>\n",
       "      <td>...</td>\n",
       "      <td>...</td>\n",
       "      <td>...</td>\n",
       "      <td>...</td>\n",
       "    </tr>\n",
       "    <tr>\n",
       "      <th>327085</th>\n",
       "      <td>ZWE</td>\n",
       "      <td>CAIT</td>\n",
       "      <td>Industrial Processes</td>\n",
       "      <td>F-Gas</td>\n",
       "      <td>2019</td>\n",
       "      <td>0.859356</td>\n",
       "      <td>Zimbabwe</td>\n",
       "      <td>Sub-Saharan Africa</td>\n",
       "      <td>Lower middle income</td>\n",
       "    </tr>\n",
       "    <tr>\n",
       "      <th>327086</th>\n",
       "      <td>ZWE</td>\n",
       "      <td>CAIT</td>\n",
       "      <td>Total including LUCF</td>\n",
       "      <td>CO2</td>\n",
       "      <td>2019</td>\n",
       "      <td>98.922640</td>\n",
       "      <td>Zimbabwe</td>\n",
       "      <td>Sub-Saharan Africa</td>\n",
       "      <td>Lower middle income</td>\n",
       "    </tr>\n",
       "    <tr>\n",
       "      <th>327087</th>\n",
       "      <td>ZWE</td>\n",
       "      <td>CAIT</td>\n",
       "      <td>Total including LUCF</td>\n",
       "      <td>CH4</td>\n",
       "      <td>2019</td>\n",
       "      <td>12.679360</td>\n",
       "      <td>Zimbabwe</td>\n",
       "      <td>Sub-Saharan Africa</td>\n",
       "      <td>Lower middle income</td>\n",
       "    </tr>\n",
       "    <tr>\n",
       "      <th>327088</th>\n",
       "      <td>ZWE</td>\n",
       "      <td>CAIT</td>\n",
       "      <td>Total including LUCF</td>\n",
       "      <td>N2O</td>\n",
       "      <td>2019</td>\n",
       "      <td>5.496316</td>\n",
       "      <td>Zimbabwe</td>\n",
       "      <td>Sub-Saharan Africa</td>\n",
       "      <td>Lower middle income</td>\n",
       "    </tr>\n",
       "    <tr>\n",
       "      <th>327089</th>\n",
       "      <td>ZWE</td>\n",
       "      <td>CAIT</td>\n",
       "      <td>Total including LUCF</td>\n",
       "      <td>F-Gas</td>\n",
       "      <td>2019</td>\n",
       "      <td>0.859356</td>\n",
       "      <td>Zimbabwe</td>\n",
       "      <td>Sub-Saharan Africa</td>\n",
       "      <td>Lower middle income</td>\n",
       "    </tr>\n",
       "  </tbody>\n",
       "</table>\n",
       "<p>327090 rows × 9 columns</p>\n",
       "</div>"
      ],
      "text/plain": [
       "       Country Source                 Sector      Gas  Year   Emission  \\\n",
       "0          AFG   CAIT   Total excluding LUCF  All GHG  1990  11.968960   \n",
       "1          AFG   CAIT   Total including LUCF  All GHG  1990   9.580450   \n",
       "2          AFG   CAIT                Energy   All GHG  1990   2.614785   \n",
       "3          AFG   CAIT  Industrial Processes   All GHG  1990   0.052709   \n",
       "4          AFG   CAIT           Agriculture   All GHG  1990   8.072853   \n",
       "...        ...    ...                    ...      ...   ...        ...   \n",
       "327085     ZWE   CAIT  Industrial Processes     F-Gas  2019   0.859356   \n",
       "327086     ZWE   CAIT   Total including LUCF      CO2  2019  98.922640   \n",
       "327087     ZWE   CAIT   Total including LUCF      CH4  2019  12.679360   \n",
       "327088     ZWE   CAIT   Total including LUCF      N2O  2019   5.496316   \n",
       "327089     ZWE   CAIT   Total including LUCF    F-Gas  2019   0.859356   \n",
       "\n",
       "       Country Name              Region         Income group  \n",
       "0       Afghanistan          South Asia           Low income  \n",
       "1       Afghanistan          South Asia           Low income  \n",
       "2       Afghanistan          South Asia           Low income  \n",
       "3       Afghanistan          South Asia           Low income  \n",
       "4       Afghanistan          South Asia           Low income  \n",
       "...             ...                 ...                  ...  \n",
       "327085     Zimbabwe  Sub-Saharan Africa  Lower middle income  \n",
       "327086     Zimbabwe  Sub-Saharan Africa  Lower middle income  \n",
       "327087     Zimbabwe  Sub-Saharan Africa  Lower middle income  \n",
       "327088     Zimbabwe  Sub-Saharan Africa  Lower middle income  \n",
       "327089     Zimbabwe  Sub-Saharan Africa  Lower middle income  \n",
       "\n",
       "[327090 rows x 9 columns]"
      ]
     },
     "execution_count": 11,
     "metadata": {},
     "output_type": "execute_result"
    }
   ],
   "source": [
    "ghg_data[\"Country Name\"] = ghg_data[\"Country\"].replace(country_df[\"Economy\"].to_dict())\n",
    "ghg_data[\"Region\"] = ghg_data[\"Country\"].replace(country_df[\"Region\"].to_dict())\n",
    "ghg_data[\"Income group\"] = ghg_data[\"Country\"].replace(country_df[\"Income group\"].to_dict())\n",
    "ghg_data"
   ]
  },
  {
   "cell_type": "code",
   "execution_count": 12,
   "id": "9ec4f67c",
   "metadata": {
    "ExecuteTime": {
     "end_time": "2022-07-10T14:20:30.721985Z",
     "start_time": "2022-07-10T14:20:30.021266Z"
    },
    "execution": {
     "iopub.execute_input": "2022-07-10T09:32:32.421736Z",
     "iopub.status.busy": "2022-07-10T09:32:32.421091Z",
     "iopub.status.idle": "2022-07-10T09:32:33.213734Z",
     "shell.execute_reply": "2022-07-10T09:32:33.212599Z",
     "shell.execute_reply.started": "2022-07-10T09:32:32.421684Z"
    },
    "tags": []
   },
   "outputs": [
    {
     "data": {
      "text/html": [
       "<div>\n",
       "<style scoped>\n",
       "    .dataframe tbody tr th:only-of-type {\n",
       "        vertical-align: middle;\n",
       "    }\n",
       "\n",
       "    .dataframe tbody tr th {\n",
       "        vertical-align: top;\n",
       "    }\n",
       "\n",
       "    .dataframe thead th {\n",
       "        text-align: right;\n",
       "    }\n",
       "</style>\n",
       "<table border=\"1\" class=\"dataframe\">\n",
       "  <thead>\n",
       "    <tr style=\"text-align: right;\">\n",
       "      <th></th>\n",
       "      <th>Country</th>\n",
       "      <th>Source</th>\n",
       "      <th>Sector</th>\n",
       "      <th>Gas</th>\n",
       "      <th>Year</th>\n",
       "      <th>Emission</th>\n",
       "      <th>Country Name</th>\n",
       "      <th>Region</th>\n",
       "      <th>Income group</th>\n",
       "      <th>Population</th>\n",
       "      <th>GDP</th>\n",
       "    </tr>\n",
       "  </thead>\n",
       "  <tbody>\n",
       "    <tr>\n",
       "      <th>0</th>\n",
       "      <td>AFG</td>\n",
       "      <td>CAIT</td>\n",
       "      <td>Total excluding LUCF</td>\n",
       "      <td>All GHG</td>\n",
       "      <td>1990</td>\n",
       "      <td>11.968960</td>\n",
       "      <td>Afghanistan</td>\n",
       "      <td>South Asia</td>\n",
       "      <td>Low income</td>\n",
       "      <td>12412308.0</td>\n",
       "      <td>NaN</td>\n",
       "    </tr>\n",
       "    <tr>\n",
       "      <th>1</th>\n",
       "      <td>AFG</td>\n",
       "      <td>CAIT</td>\n",
       "      <td>Total including LUCF</td>\n",
       "      <td>All GHG</td>\n",
       "      <td>1990</td>\n",
       "      <td>9.580450</td>\n",
       "      <td>Afghanistan</td>\n",
       "      <td>South Asia</td>\n",
       "      <td>Low income</td>\n",
       "      <td>12412308.0</td>\n",
       "      <td>NaN</td>\n",
       "    </tr>\n",
       "    <tr>\n",
       "      <th>2</th>\n",
       "      <td>AFG</td>\n",
       "      <td>CAIT</td>\n",
       "      <td>Energy</td>\n",
       "      <td>All GHG</td>\n",
       "      <td>1990</td>\n",
       "      <td>2.614785</td>\n",
       "      <td>Afghanistan</td>\n",
       "      <td>South Asia</td>\n",
       "      <td>Low income</td>\n",
       "      <td>12412308.0</td>\n",
       "      <td>NaN</td>\n",
       "    </tr>\n",
       "    <tr>\n",
       "      <th>3</th>\n",
       "      <td>AFG</td>\n",
       "      <td>CAIT</td>\n",
       "      <td>Industrial Processes</td>\n",
       "      <td>All GHG</td>\n",
       "      <td>1990</td>\n",
       "      <td>0.052709</td>\n",
       "      <td>Afghanistan</td>\n",
       "      <td>South Asia</td>\n",
       "      <td>Low income</td>\n",
       "      <td>12412308.0</td>\n",
       "      <td>NaN</td>\n",
       "    </tr>\n",
       "    <tr>\n",
       "      <th>4</th>\n",
       "      <td>AFG</td>\n",
       "      <td>CAIT</td>\n",
       "      <td>Agriculture</td>\n",
       "      <td>All GHG</td>\n",
       "      <td>1990</td>\n",
       "      <td>8.072853</td>\n",
       "      <td>Afghanistan</td>\n",
       "      <td>South Asia</td>\n",
       "      <td>Low income</td>\n",
       "      <td>12412308.0</td>\n",
       "      <td>NaN</td>\n",
       "    </tr>\n",
       "    <tr>\n",
       "      <th>...</th>\n",
       "      <td>...</td>\n",
       "      <td>...</td>\n",
       "      <td>...</td>\n",
       "      <td>...</td>\n",
       "      <td>...</td>\n",
       "      <td>...</td>\n",
       "      <td>...</td>\n",
       "      <td>...</td>\n",
       "      <td>...</td>\n",
       "      <td>...</td>\n",
       "      <td>...</td>\n",
       "    </tr>\n",
       "    <tr>\n",
       "      <th>327085</th>\n",
       "      <td>ZWE</td>\n",
       "      <td>CAIT</td>\n",
       "      <td>Industrial Processes</td>\n",
       "      <td>F-Gas</td>\n",
       "      <td>2019</td>\n",
       "      <td>0.859356</td>\n",
       "      <td>Zimbabwe</td>\n",
       "      <td>Sub-Saharan Africa</td>\n",
       "      <td>Lower middle income</td>\n",
       "      <td>14645468.0</td>\n",
       "      <td>2.144076e+10</td>\n",
       "    </tr>\n",
       "    <tr>\n",
       "      <th>327086</th>\n",
       "      <td>ZWE</td>\n",
       "      <td>CAIT</td>\n",
       "      <td>Total including LUCF</td>\n",
       "      <td>CO2</td>\n",
       "      <td>2019</td>\n",
       "      <td>98.922640</td>\n",
       "      <td>Zimbabwe</td>\n",
       "      <td>Sub-Saharan Africa</td>\n",
       "      <td>Lower middle income</td>\n",
       "      <td>14645468.0</td>\n",
       "      <td>2.144076e+10</td>\n",
       "    </tr>\n",
       "    <tr>\n",
       "      <th>327087</th>\n",
       "      <td>ZWE</td>\n",
       "      <td>CAIT</td>\n",
       "      <td>Total including LUCF</td>\n",
       "      <td>CH4</td>\n",
       "      <td>2019</td>\n",
       "      <td>12.679360</td>\n",
       "      <td>Zimbabwe</td>\n",
       "      <td>Sub-Saharan Africa</td>\n",
       "      <td>Lower middle income</td>\n",
       "      <td>14645468.0</td>\n",
       "      <td>2.144076e+10</td>\n",
       "    </tr>\n",
       "    <tr>\n",
       "      <th>327088</th>\n",
       "      <td>ZWE</td>\n",
       "      <td>CAIT</td>\n",
       "      <td>Total including LUCF</td>\n",
       "      <td>N2O</td>\n",
       "      <td>2019</td>\n",
       "      <td>5.496316</td>\n",
       "      <td>Zimbabwe</td>\n",
       "      <td>Sub-Saharan Africa</td>\n",
       "      <td>Lower middle income</td>\n",
       "      <td>14645468.0</td>\n",
       "      <td>2.144076e+10</td>\n",
       "    </tr>\n",
       "    <tr>\n",
       "      <th>327089</th>\n",
       "      <td>ZWE</td>\n",
       "      <td>CAIT</td>\n",
       "      <td>Total including LUCF</td>\n",
       "      <td>F-Gas</td>\n",
       "      <td>2019</td>\n",
       "      <td>0.859356</td>\n",
       "      <td>Zimbabwe</td>\n",
       "      <td>Sub-Saharan Africa</td>\n",
       "      <td>Lower middle income</td>\n",
       "      <td>14645468.0</td>\n",
       "      <td>2.144076e+10</td>\n",
       "    </tr>\n",
       "  </tbody>\n",
       "</table>\n",
       "<p>327090 rows × 11 columns</p>\n",
       "</div>"
      ],
      "text/plain": [
       "       Country Source                 Sector      Gas  Year   Emission  \\\n",
       "0          AFG   CAIT   Total excluding LUCF  All GHG  1990  11.968960   \n",
       "1          AFG   CAIT   Total including LUCF  All GHG  1990   9.580450   \n",
       "2          AFG   CAIT                Energy   All GHG  1990   2.614785   \n",
       "3          AFG   CAIT  Industrial Processes   All GHG  1990   0.052709   \n",
       "4          AFG   CAIT           Agriculture   All GHG  1990   8.072853   \n",
       "...        ...    ...                    ...      ...   ...        ...   \n",
       "327085     ZWE   CAIT  Industrial Processes     F-Gas  2019   0.859356   \n",
       "327086     ZWE   CAIT   Total including LUCF      CO2  2019  98.922640   \n",
       "327087     ZWE   CAIT   Total including LUCF      CH4  2019  12.679360   \n",
       "327088     ZWE   CAIT   Total including LUCF      N2O  2019   5.496316   \n",
       "327089     ZWE   CAIT   Total including LUCF    F-Gas  2019   0.859356   \n",
       "\n",
       "       Country Name              Region         Income group  Population  \\\n",
       "0       Afghanistan          South Asia           Low income  12412308.0   \n",
       "1       Afghanistan          South Asia           Low income  12412308.0   \n",
       "2       Afghanistan          South Asia           Low income  12412308.0   \n",
       "3       Afghanistan          South Asia           Low income  12412308.0   \n",
       "4       Afghanistan          South Asia           Low income  12412308.0   \n",
       "...             ...                 ...                  ...         ...   \n",
       "327085     Zimbabwe  Sub-Saharan Africa  Lower middle income  14645468.0   \n",
       "327086     Zimbabwe  Sub-Saharan Africa  Lower middle income  14645468.0   \n",
       "327087     Zimbabwe  Sub-Saharan Africa  Lower middle income  14645468.0   \n",
       "327088     Zimbabwe  Sub-Saharan Africa  Lower middle income  14645468.0   \n",
       "327089     Zimbabwe  Sub-Saharan Africa  Lower middle income  14645468.0   \n",
       "\n",
       "                 GDP  \n",
       "0                NaN  \n",
       "1                NaN  \n",
       "2                NaN  \n",
       "3                NaN  \n",
       "4                NaN  \n",
       "...              ...  \n",
       "327085  2.144076e+10  \n",
       "327086  2.144076e+10  \n",
       "327087  2.144076e+10  \n",
       "327088  2.144076e+10  \n",
       "327089  2.144076e+10  \n",
       "\n",
       "[327090 rows x 11 columns]"
      ]
     },
     "execution_count": 12,
     "metadata": {},
     "output_type": "execute_result"
    }
   ],
   "source": [
    "data = pd.merge(\n",
    "    ghg_data, \n",
    "    population_data, \n",
    "    left_on=[\"Country\", \"Country Name\", \"Year\"], \n",
    "    right_on=[\"Country Code\", \"Country Name\", \"Year\"], \n",
    "    how=\"left\").drop([\"Indicator Code\", \"Country Code\"], axis=1)\n",
    "data = pd.merge(\n",
    "    data,\n",
    "    gdp_data,\n",
    "    left_on=[\"Country\", \"Country Name\", \"Year\"], \n",
    "    right_on=[\"Country Code\", \"Country Name\", \"Year\"], \n",
    "    how=\"left\").drop([\"Indicator Code\", \"Country Code\"], axis=1)\n",
    "data"
   ]
  },
  {
   "cell_type": "markdown",
   "id": "ff52ed3a",
   "metadata": {},
   "source": [
    "### GDP vs Emission"
   ]
  },
  {
   "cell_type": "code",
   "execution_count": 13,
   "id": "b6215799",
   "metadata": {
    "ExecuteTime": {
     "end_time": "2022-07-10T14:20:34.648425Z",
     "start_time": "2022-07-10T14:20:30.731434Z"
    }
   },
   "outputs": [],
   "source": [
    "df = data[(data[\"Sector\"]==\"Total including LUCF\") & (data[\"Gas\"]==\"All GHG\")].loc[:, [\"GDP\", \"Population\", \"Emission\", \"Country Name\",\"Region\", \"Income group\", \"Year\"]].dropna()\n",
    "df = df.groupby([\"Year\"]).sum().reset_index()\n",
    "fig = px.scatter(\n",
    "    data_frame=df, \n",
    "    x=\"GDP\", y=\"Emission\", color=\"Year\",\n",
    "    hover_data=[\"Year\"], trendline=\"ols\", trendline_scope=\"overall\",\n",
    "    title=\"GDP vs. Emission of World\"\n",
    ")\n",
    "fig.write_html(\"gdp_vs_emission_of_world.html\")"
   ]
  },
  {
   "cell_type": "markdown",
   "id": "1c89a6a5",
   "metadata": {},
   "source": [
    "### Emission by Income group"
   ]
  },
  {
   "cell_type": "code",
   "execution_count": 14,
   "id": "70ab7aec",
   "metadata": {
    "ExecuteTime": {
     "end_time": "2022-07-10T14:20:34.840237Z",
     "start_time": "2022-07-10T14:20:34.651354Z"
    }
   },
   "outputs": [],
   "source": [
    "df = ghg_df\n",
    "years = df.columns.to_series().loc[\"1990\":\"2019\"]\n",
    "df[\"Income group\"] = df[\"Country\"].replace(country_df[\"Income group\"].to_dict())\n",
    "df = df.groupby([\"Income group\", \"Sector\", \"Gas\"]).sum().reset_index()\n",
    "df = df[df[\"Income group\"].str.contains(\"income\")]\n",
    "orders = {key: i for i, key in enumerate(['High income', 'Upper middle income', 'Lower middle income', 'Low income'])}\n",
    "df = df.sort_values(\"Income group\", key=lambda col: col.apply(lambda x: orders.get(x)))"
   ]
  },
  {
   "cell_type": "code",
   "execution_count": 15,
   "id": "29999a38",
   "metadata": {
    "ExecuteTime": {
     "end_time": "2022-07-10T14:20:35.175779Z",
     "start_time": "2022-07-10T14:20:34.846810Z"
    }
   },
   "outputs": [
    {
     "data": {
      "text/plain": [
       "'/Users/jundamin/Downloads/climate_tech_vizualization/emission_by_income_group.html'"
      ]
     },
     "execution_count": 15,
     "metadata": {},
     "output_type": "execute_result"
    }
   ],
   "source": [
    "tl = Timeline()\n",
    "for i in years.tolist():\n",
    "    bar = (\n",
    "        Bar()\n",
    "        .add_xaxis(df[\"Income group\"].unique().tolist())\n",
    "    )\n",
    "    for sector, sub_df in df[df[\"Gas\"]==\"All GHG\"].groupby(\"Sector\"):\n",
    "        if \"Total\" in sector:\n",
    "            continue\n",
    "        bar.add_yaxis(sector, sub_df[i].tolist(), stack=\"stack1\")\n",
    "\n",
    "    bar.load_javascript()\n",
    "    bar.set_series_opts(label_opts=opts.LabelOpts(is_show=False))\n",
    "    bar.set_global_opts(\n",
    "        title_opts=opts.TitleOpts(title=\"소득수준별\\n배출량\", padding=5, pos_top=0,), legend_opts=opts.LegendOpts(pos_left=100)\n",
    "                       )\n",
    "    tl.add(bar, i)\n",
    "tl.add_schema(play_interval=500, is_auto_play =True)\n",
    "tl.render(\"emission_by_income_group.html\")"
   ]
  },
  {
   "cell_type": "markdown",
   "id": "18e07cbf",
   "metadata": {},
   "source": [
    "### GDP vs emission by Income group"
   ]
  },
  {
   "cell_type": "code",
   "execution_count": 16,
   "id": "588a4b9b",
   "metadata": {
    "ExecuteTime": {
     "end_time": "2022-07-10T14:20:35.526485Z",
     "start_time": "2022-07-10T14:20:35.180553Z"
    },
    "execution": {
     "iopub.execute_input": "2022-07-10T09:33:14.318776Z",
     "iopub.status.busy": "2022-07-10T09:33:14.318403Z",
     "iopub.status.idle": "2022-07-10T09:33:18.929816Z",
     "shell.execute_reply": "2022-07-10T09:33:18.926333Z",
     "shell.execute_reply.started": "2022-07-10T09:33:14.318743Z"
    },
    "scrolled": true,
    "tags": []
   },
   "outputs": [],
   "source": [
    "df = data[(data[\"Sector\"]==\"Total including LUCF\") & (data[\"Gas\"]==\"All GHG\")].loc[:, [\"GDP\", \"Emission\", \"Country Name\",\"Region\", \"Income group\", \"Year\"]].dropna()\n",
    "df = df.groupby([\"Income group\", \"Year\"]).sum().reset_index().sort_values(\"GDP\", ascending=False)\n",
    "\n",
    "fig = px.scatter(\n",
    "    data_frame=df, \n",
    "    x=\"GDP\", y=\"Emission\", \n",
    "    color=\"Income group\",\n",
    "    trendline=\"ols\",\n",
    "    hover_data=[\"Year\"],\n",
    "    title=\"GDP vs Emission by Income group\")\n",
    "fig.write_html(\"gdp_vs_emission_by_income_group.html\")"
   ]
  },
  {
   "cell_type": "markdown",
   "id": "f712e4b4",
   "metadata": {},
   "source": [
    "### GDP vs Vulerability"
   ]
  },
  {
   "cell_type": "code",
   "execution_count": 17,
   "id": "43671309",
   "metadata": {
    "ExecuteTime": {
     "end_time": "2022-07-10T14:20:35.765759Z",
     "start_time": "2022-07-10T14:20:35.539901Z"
    }
   },
   "outputs": [],
   "source": [
    "adapt_df[\"Country Name\"] = adapt_df[\"country\"].replace(country_df[\"Economy\"].to_dict())\n",
    "adapt_df[\"Income group\"] = adapt_df[\"country\"].replace(country_df[\"Income group\"].to_dict())\n",
    "adapt_df[\"GDP\"] = adapt_df[\"country\"].replace(gdp_df.set_index(\"Country Code\")[\"2019\"].to_dict())\n",
    "adapt_df[\"Population\"] = adapt_df[\"country\"].replace(population_df.set_index(\"Country Code\")[\"2019\"].to_dict())"
   ]
  },
  {
   "cell_type": "code",
   "execution_count": 18,
   "id": "07980e71",
   "metadata": {
    "ExecuteTime": {
     "end_time": "2022-07-10T14:20:35.975990Z",
     "start_time": "2022-07-10T14:20:35.771330Z"
    }
   },
   "outputs": [],
   "source": [
    "df = adapt_df.dropna(subset=[\"Income group\", \"GDP\", \"Population\"])\n",
    "df[\"GDP_capita\"] = df[\"GDP\"]/df[\"Population\"]\n",
    "fig = px.scatter(\n",
    "    df, \n",
    "    x=\"GDP_capita\", y=\"vulnerability\", color=\"Income group\", \n",
    "    hover_data=[\"Country Name\"], \n",
    "    log_x=True, \n",
    "    trendline=\"ols\" , trendline_scope=\"overall\", trendline_options=dict(log_x=True),\n",
    ")\n",
    "fig.write_html(\"gdp_vs_vulnerability.html\")        "
   ]
  },
  {
   "cell_type": "markdown",
   "id": "bf816ae3",
   "metadata": {},
   "source": [
    "### Climate Disaster Frequency"
   ]
  },
  {
   "cell_type": "code",
   "execution_count": 19,
   "id": "8c3b1910",
   "metadata": {
    "ExecuteTime": {
     "end_time": "2022-07-10T14:20:36.271858Z",
     "start_time": "2022-07-10T14:20:35.983877Z"
    }
   },
   "outputs": [],
   "source": [
    "# Data Source : IMF climate data\n",
    "disaster_data = pd.read_csv(\"data/Climate-related_Disasters_Frequency.csv\")\n",
    "disaster_data = disaster_data.fillna(0).melt(disaster_data.columns.to_series().loc[\"ObjectId\": \"Source\"], var_name=\"Year\", value_name=\"Frequency\")\n",
    "disaster_data[\"Year\"] = disaster_data[\"Year\"].apply(lambda x: int(x[1:]))\n",
    "df = disaster_data.groupby([\"Indicator\", \"Year\"]).sum().reset_index()\n",
    "\n",
    "converter = {key: value for key, value in list(map(lambda x: (x, x.split(\":\")[1].strip()), df[\"Indicator\"].unique()))}\n",
    "\n",
    "df[\"Indicator\"].replace(converter, inplace=True)\n",
    "fig = px.bar(\n",
    "    data_frame=df[~df[\"Indicator\"].str.contains(\"TOTAL\")], \n",
    "    x=\"Year\", y=\"Frequency\", color=\"Indicator\",\n",
    "    title=\"Climate related disasters frequency, Number of Disasters\"\n",
    ")\n",
    "fig.write_html(\"disaster.html\")"
   ]
  },
  {
   "cell_type": "markdown",
   "id": "0ea6cd0d",
   "metadata": {},
   "source": [
    "### Pie Chart of Climate tech demand"
   ]
  },
  {
   "cell_type": "code",
   "execution_count": 20,
   "id": "dabe0526",
   "metadata": {
    "ExecuteTime": {
     "end_time": "2022-07-10T14:20:36.444483Z",
     "start_time": "2022-07-10T14:20:36.279572Z"
    }
   },
   "outputs": [
    {
     "name": "stdout",
     "output_type": "stream",
     "text": [
      "['02. Adaptation' '01. Mitigation' '03. Mitigation/Adaptation Convergence']\n"
     ]
    }
   ],
   "source": [
    "# Data Source : CTIS\n",
    "climate_tech = pd.read_excel(\"data/ctis_tech_demand_220706_090101.xlsx\")\n",
    "print(climate_tech[\"CTC Sector\"].unique())\n",
    "climate_tech[\"CTC Sector\"].replace({\"03. Mitigation/Adaptation Convergence\": \"03. Convergence\"}, inplace=True)\n",
    "climate_tech.sort_values([\"CTC Sector\", \"CTC Section\", \"CTC Division\"], inplace=True)"
   ]
  },
  {
   "cell_type": "code",
   "execution_count": 21,
   "id": "37b2ce9d",
   "metadata": {
    "ExecuteTime": {
     "end_time": "2022-07-10T14:20:36.466518Z",
     "start_time": "2022-07-10T14:20:36.452074Z"
    }
   },
   "outputs": [],
   "source": [
    "item_colors = { '01. Mitigation': '#fb8500',\n",
    " '02. Adaptation': '#577590',\n",
    " '03. Convergence': '#ffb703',\n",
    " '(1) Non-renewable Energy ': '#f8961e',\n",
    " '(2) Renewable Energy ': '#f3722c',\n",
    " '(5) Transmission and distribution, power IT ': '#f3722c',\n",
    " '(6) Energy demand ': '#f8961e',\n",
    " '(7) Greenhouse gas fixation': '#f9c74f',\n",
    " '(8) Agriculture and livestock ': '#90be6d',\n",
    " '(9) Water ': '#219ebc',\n",
    " '(10) Climate change forecast and monitoring ': '#f9c74f',\n",
    " '(11) Marine, fisheries, and coast ': '#277da1',\n",
    " '(12) Health ': '#f94144',\n",
    " '(13) Forest and land Convergence ': '#4d908e',\n",
    " '(14) Multi-disciplinary convergence': '#f9c74f',\n",
    " '01. Nuclear power': '#ffd60a',\n",
    " '03. Clean thermal power and efficiency': '#d00000',\n",
    " '04. Hydropower': '#1e6091',\n",
    " '05. Photovoltaic power': '#d00000',\n",
    " '06. Solar-thermal power': '#faa307',\n",
    " '07. Geothermal power': '#9b2226',\n",
    " '08. Wind power': '#99d98c',\n",
    " '09. Marine energy': '#34a0a4',\n",
    " '10. Bioenergy': '#d9ed92',\n",
    " '11. Waste energy': '#432818', \n",
    " '16. transmission and distribution': '#ee9b00', \n",
    " '17. Electric intelligence device': '#4361ee',\n",
    " '18. Transport system efficiency': '#e85d04',\n",
    " '19. Industrial efficiency': '#ee9b00', \n",
    " '20. Building efficiency': '#b08968',\n",
    " '21. Carbon Capture, Utilize, Storage': '#370617',\n",
    " '24. Crop cultivation and production': '#95d5b2',\n",
    " '25. Livestock disease management': '#f72585',\n",
    " '26. Processing, storage and distribution': '#bb3e03',\n",
    " '27. Water quality and ecosystem': '#90e0ef',\n",
    " '28. Water resources securement and supply': '#94d2bd',\n",
    " '29. Water treatment': '#ade8f4',\n",
    " '30. Water disaster management': '#90e0ef',\n",
    " '31. Climate forecast and modeling': '#d9ed92',\n",
    " '32. Climate information alarm system': '#e5383b',\n",
    " '33. Marine Ecosystem': '#caf0f8',\n",
    " '34. Fisheries resources': '#4cc9f0',\n",
    " '35. Coastal & Floods management': '#99d98c',\n",
    " '36. Infectious disease management': '#f72585',\n",
    " '38. Forest production promotion(REDD+)': '#52b788',\n",
    " '39. Forest damage reduction': '#52796f',\n",
    " '40. Ecological monitoring and restoration': '#84a98c',\n",
    " '41. Renewable hybrid energy': '#7209b7',\n",
    " '45. Other climate technology not covered in this classification': '#7209b7',\n",
    "}"
   ]
  },
  {
   "cell_type": "code",
   "execution_count": 22,
   "id": "faa5ba8b",
   "metadata": {
    "ExecuteTime": {
     "end_time": "2022-07-10T14:20:36.485977Z",
     "start_time": "2022-07-10T14:20:36.480412Z"
    }
   },
   "outputs": [],
   "source": [
    "def breakline(txt):\n",
    "    res = \"\"\n",
    "    for word in txt.split():\n",
    "        res += \" \" + word\n",
    "        if len(res.splitlines()[-1]) > 20:\n",
    "            res +=\"\\n\"\n",
    "    return res"
   ]
  },
  {
   "cell_type": "code",
   "execution_count": 23,
   "id": "bf633e7c",
   "metadata": {
    "ExecuteTime": {
     "end_time": "2022-07-10T14:20:36.525358Z",
     "start_time": "2022-07-10T14:20:36.493443Z"
    }
   },
   "outputs": [],
   "source": [
    "\n",
    "tree_data = []\n",
    "\n",
    "for key, df in climate_tech.groupby(\"CTC Sector\"):\n",
    "    sector_tree = {}\n",
    "    sector_tree[\"name\"] = key\n",
    "    sector_tree[\"itemStyle\"] = {\"color\": item_colors[key]}\n",
    "    sector_tree[\"children\"] = []\n",
    "    \n",
    "    for sect, sect_df in df.groupby(\"CTC Section\"):\n",
    "        sect_tree = {}\n",
    "        sect_tree[\"name\"] = breakline(sect)\n",
    "        sect_tree[\"itemStyle\"] = {\"color\": item_colors[sect]}\n",
    "        sect_tree[\"children\"] = []\n",
    "        \n",
    "        for division, div_df in sect_df.groupby(\"CTC Division\"):\n",
    "            div_tree = {}\n",
    "            div_tree[\"name\"] = division\n",
    "            div_tree[\"itemStyle\"] = {\"color\": item_colors[division]}\n",
    "            div_tree[\"value\"] = div_df.shape[0]\n",
    "            \n",
    "            sect_tree[\"children\"].append(div_tree)\n",
    "        \n",
    "        sector_tree[\"children\"].append(sect_tree)\n",
    "    tree_data.append(sector_tree)"
   ]
  },
  {
   "cell_type": "code",
   "execution_count": 24,
   "id": "b743c303",
   "metadata": {
    "ExecuteTime": {
     "end_time": "2022-07-10T14:20:36.578776Z",
     "start_time": "2022-07-10T14:20:36.540871Z"
    }
   },
   "outputs": [],
   "source": [
    "c = (\n",
    "    Sunburst(init_opts=opts.InitOpts(width=\"1000px\", height=\"1000px\"))\n",
    "    .add(\n",
    "        \"\",\n",
    "        data_pair=tree_data,\n",
    "        highlight_policy=\"ancestor\",\n",
    "        radius=[0, \"95%\"],\n",
    "        sort_=\"null\",\n",
    "        levels=[\n",
    "            {},\n",
    "            {\n",
    "                \"r0\": \"15%\",\n",
    "                \"r\": \"40%\",\n",
    "                \"itemStyle\": {\"borderWidth\": 2},\n",
    "                \"label\": {\"rotate\": \"tangential\"},\n",
    "            },\n",
    "            {\"r0\": \"40%\", \"r\": \"73%\", \"label\": {\"align\": \"right\"}},\n",
    "           \n",
    "            {\n",
    "                \"r0\": \"73%\",\n",
    "                \"r\": \"75%\",\n",
    "                \"label\": {\"position\": \"outside\", \"padding\": 3, \"silent\": False},\n",
    "                \"itemStyle\": {\"borderWidth\": 3},\n",
    "            },\n",
    "        ],\n",
    "    )\n",
    "    .set_global_opts(title_opts=opts.TitleOpts(title=\"Climate Technology Demand\"))\n",
    "    .set_series_opts(label_opts=opts.LabelOpts(formatter=\"{b}\"))\n",
    "    .render(\"climate_tech_demand.html\")\n",
    ")"
   ]
  },
  {
   "cell_type": "markdown",
   "id": "afeb7742",
   "metadata": {},
   "source": [
    "### Climate Technology"
   ]
  },
  {
   "cell_type": "code",
   "execution_count": 25,
   "id": "e74d6e8d",
   "metadata": {
    "ExecuteTime": {
     "end_time": "2022-07-10T14:20:36.638267Z",
     "start_time": "2022-07-10T14:20:36.586229Z"
    }
   },
   "outputs": [],
   "source": [
    "# Data Source : CTIS\n",
    "from pyecharts.charts import Sunburst\n",
    "\n",
    "data = [\n",
    "    {\n",
    "        \"name\": \"감축\",\n",
    "        \"itemStyle\": {\"color\": item_colors['01. Mitigation']},\n",
    "        \"children\": [\n",
    "             {\n",
    "                 \"name\": \"(1) 비재생에너지\",\n",
    "                 \"itemStyle\": {\"color\": item_colors['(1) Non-renewable Energy ']},\n",
    "                 \"children\": [\n",
    "                     {\"name\": \"1. 원자력 발전\", \"value\":1, \"itemStyle\": {\"color\": item_colors['01. Nuclear power']}},\n",
    "                     {\"name\": \"2. 핵융합 발전\", \"value\": 1, \"itemStyle\": {\"color\": item_colors['03. Clean thermal power and efficiency']},},\n",
    "                     {\"name\": \"3. 청정화력 발전・효율화\", \"value\": 1, \"itemStyle\": {\"color\": item_colors['04. Hydropower']},},\n",
    "                 ]\n",
    "             },\n",
    "             {\n",
    "                 \"name\": \"(2) 재생에너지\",\n",
    "                 \"itemStyle\": {\"color\": item_colors['(2) Renewable Energy ']},\n",
    "                 \"children\": [\n",
    "                     {\"name\": \"4. 수력\", \"value\":1, \"itemStyle\": {\"color\": item_colors['04. Hydropower']},},\n",
    "                     {\"name\": \"5. 태양광\", \"value\":1, \"itemStyle\": {\"color\": item_colors['05. Photovoltaic power']},},\n",
    "                     {\"name\": \"6. 태양열\", \"value\":1, \"itemStyle\": {\"color\": item_colors['06. Solar-thermal power']},},\n",
    "                     {\"name\": \"7. 지열\", \"value\":1, \"itemStyle\": {\"color\": item_colors['07. Geothermal power']},},\n",
    "                     {\"name\": \"8. 풍력\", \"value\":1, \"itemStyle\": {\"color\": item_colors['08. Wind power']},},\n",
    "                     {\"name\": \"9. 해양에너지\", \"value\":1, \"itemStyle\": {\"color\": item_colors['09. Marine energy']},},\n",
    "                     {\"name\": \"10. 바이오에너지\", \"value\":1, \"itemStyle\": {\"color\": item_colors['10. Bioenergy']},},\n",
    "                     {\"name\": \"11. 폐기물\", \"value\":1, \"itemStyle\": {\"color\": item_colors['11. Waste energy']},},\n",
    "\n",
    "                 ]\n",
    "             },\n",
    "              {\n",
    "                 \"name\": \"(3) 신에너지\",\n",
    "                 \"itemStyle\": {\"color\": \"#f99e1c\"},\n",
    "                 \"children\": [\n",
    "                     {\"name\": \"12. 수소제조\", \"value\":1},\n",
    "                     {\"name\": \"13. 연료전지\", \"value\":1},\n",
    "\n",
    "                 ]\n",
    "             },\n",
    "            {\n",
    "                 \"name\": \"(4) 에너지 저장\",\n",
    "                 \"itemStyle\": {\"color\": \"#f99e1c\"},\n",
    "                 \"children\": [\n",
    "                     {\"name\": \"14. 전력저장\", \"value\":1},\n",
    "                     {\"name\": \"15. 수소저장\", \"value\": 1}\n",
    "                 ]\n",
    "             },\n",
    "             {\n",
    "                 \"name\": \"(5) 송배전&전력IT\",\n",
    "                 \"itemStyle\": {\"color\": item_colors['(5) Transmission and distribution, power IT ']},\n",
    "                 \"children\": [\n",
    "                     {\"name\": \"16. 송배전 시스템\", \"value\":1, \"itemStyle\": {\"color\": item_colors['16. transmission and distribution']},},\n",
    "                     {\"name\": \"17. 전기지능화 기기\", \"value\":1, \"itemStyle\": {\"color\": item_colors['17. Electric intelligence device']},},\n",
    "\n",
    "                 ]\n",
    "             },\n",
    "   \n",
    "            {\n",
    "                 \"name\": \"(6) 에너지 수요\",\n",
    "                 \"itemStyle\": {\"color\": item_colors['(6) Energy demand ']},\n",
    "                 \"children\": [\n",
    "                     {\"name\": \"18. 수송효율화\", \"value\":1, \"itemStyle\": {\"color\": item_colors['18. Transport system efficiency']},},\n",
    "                     {\"name\": \"19. 산업효율화\", \"value\": 1, \"itemStyle\": {\"color\": item_colors['19. Industrial efficiency']},},\n",
    "                     {\"name\": \"20. 건축효율화\", \"value\": 1, \"itemStyle\": {\"color\": item_colors['20. Building efficiency']},}\n",
    "                 ]\n",
    "             }, \n",
    "            {\n",
    "                \"name\": \"(7) 온실가스 고정\",\n",
    "                \"itemStyle\": {\"color\": item_colors['(7) Greenhouse gas fixation']},\n",
    "                \"children\": [\n",
    "                    {\n",
    "                        \"name\": \"21. CCUS\",\n",
    "                        \"value\": 1,\n",
    "                        \"itemStyle\": {\"color\": item_colors['21. Carbon Capture, Utilize, Storage']},\n",
    "                    },\n",
    "                    {\"name\": \"22. Non-Co2 저감\", \"value\": 1, \"itemStyle\": {\"color\": item_colors['(7) Greenhouse gas fixation']}},\n",
    "                ],\n",
    "            },\n",
    "        ],\n",
    "    },\n",
    "    {\n",
    "        \"name\": \"적응\",\n",
    "        \"itemStyle\": {\"color\": item_colors[\"02. Adaptation\"]},\n",
    "        \"children\": [\n",
    "            {\n",
    "                \"name\": \"(8) 농업&축산\",\n",
    "                \"itemStyle\": {\"color\": item_colors['(8) Agriculture and livestock ']},\n",
    "                \"children\": [\n",
    "                    {\n",
    "                        \"name\": \"23. 유전자원 & 유전개량\",\n",
    "                        \"value\": 1,\n",
    "                        \"itemStyle\": {\"color\": \"#3e0317\"},\n",
    "                    },\n",
    "                    {\n",
    "                        \"name\": \"24. 작물재배 & 생산\",\n",
    "                        \"value\": 1,\n",
    "                        \"itemStyle\": {\"color\": \"#e62969\"},\n",
    "                    },\n",
    "                    {\n",
    "                        \"name\": \"25. 가축질병관리\",\n",
    "                        \"value\": 1,\n",
    "                        \"itemStyle\": {\"color\": \"#6569b0\"},\n",
    "                    },\n",
    "                    {\n",
    "                        \"name\": \"26. 가공, 저장&유통\",\n",
    "                        \"value\": 1,\n",
    "                        \"itemStyle\": {\"color\": \"#ef2d36\"},\n",
    "                    },\n",
    "                ],\n",
    "            },\n",
    "            {\n",
    "                \"name\": \"(9) 물관리\",\n",
    "                \"itemStyle\": {\"color\": item_colors['(9) Water ']},\n",
    "                \"children\": [\n",
    "                    {\"name\": \"27. 수계 & 수생태계\", \"value\": 1, \"itemStyle\": {\"color\": \"#b53b54\"}},\n",
    "                    {\"name\": \"28. 수자원 확보 및 공급\", \"value\": 1, \"itemStyle\": {\"color\": \"#a5446f\"}},\n",
    "                    {\"name\": \"29. 수처리\", \"value\": 1, \"itemStyle\": {\"color\": \"#a5446f\"}},\n",
    "                    {\"name\": \"30. 수재해 관리\", \"value\": 1, \"itemStyle\": {\"color\": \"#a5446f\"}},\n",
    "                ],\n",
    "            },\n",
    "            {\n",
    "                \"name\": \"(10) 기후변화예측 및 모니터링\",\n",
    "                \"itemStyle\": {\"color\": item_colors['(10) Climate change forecast and monitoring ']},\n",
    "                \"children\": [\n",
    "                    {\"name\": \"31. 기후 예측 및 모델링\", \"value\": 1, \"itemStyle\": {\"color\": \"#f2684b\"}},\n",
    "                    {\"name\": \"32. 기후 정보 & 경보 시스템\", \"value\": 1, \"itemStyle\": {\"color\": \"#e73451\"}},\n",
    "                ],\n",
    "            },\n",
    "            {\n",
    "                \"name\": \"(11) 해양, 수산 & 연안\",\n",
    "                \"itemStyle\": {\"color\": item_colors['(11) Marine, fisheries, and coast ']},\n",
    "                \"children\": [\n",
    "                    {\n",
    "                        \"name\": \"33. 해양생테계\",\n",
    "                        \"value\": 1,\n",
    "                        \"itemStyle\": {\"color\": \"#f26355\"},\n",
    "                    },\n",
    "                    {\"name\": \"34. 수산자원\", \"value\": 1, \"itemStyle\": {\"color\": \"#e2631e\"}},\n",
    "                    {\"name\": \"35. 연안재해 관리\", \"value\": 1, \"itemStyle\": {\"color\": \"#fde404\"}},\n",
    "                ],\n",
    "            },\n",
    "            {\n",
    "                \"name\": \"(12) 건강\",\n",
    "                \"itemStyle\": {\"color\": item_colors['(12) Health ']},\n",
    "                \"children\": [\n",
    "                    {\n",
    "                        \"name\": \"36. 감염 질병 관리\",\n",
    "                        \"value\": 1,\n",
    "                        \"itemStyle\": {\"color\": \"#f26355\"},\n",
    "                    },\n",
    "                    {\"name\": \"27. 식품 안전 예방\", \"value\": 1, \"itemStyle\": {\"color\": \"#e2631e\"}},\n",
    "                ],\n",
    "            },\n",
    "            \n",
    "            {\n",
    "                \"name\": \"(13) 산림 & 육상\",\n",
    "                \"itemStyle\": {\"color\": item_colors['(13) Forest and land Convergence ']},\n",
    "                \"children\": [\n",
    "                    {\n",
    "                        \"name\": \"38. 산림 생산 증진\",\n",
    "                        \"value\": 1,\n",
    "                        \"itemStyle\": {\"color\": \"#f26355\"},\n",
    "                    },\n",
    "                    {\"name\": \"39. 산림 피해 저감\", \"value\": 1, \"itemStyle\": {\"color\": \"#e2631e\"}},\n",
    "                    {\"name\": \"40. 생태 모니터링 & 복원\", \"value\": 1, \"itemStyle\": {\"color\": \"#e2631e\"}},\n",
    "                ],\n",
    "            },\n",
    "        ],\n",
    "    },\n",
    "    {\n",
    "        \"name\": \"감축/적응 융복합\",\n",
    "        \"itemStyle\": {\"color\": \"#ebb40f\"},\n",
    "        \"children\": [\n",
    "            {\n",
    "                \"name\": \"(14) 다분야 중접\",\n",
    "                \"itemStyle\": {\"color\": item_colors['(14) Multi-disciplinary convergence']},\n",
    "                \"children\": [\n",
    "                    {\n",
    "                        \"name\": \"41. 신재생 에너지 하이브리드\",\n",
    "                        \"value\": 1,\n",
    "                        \"itemStyle\": {\"color\": \"#9ea718\"},\n",
    "                    },\n",
    "                    {\n",
    "                        \"name\": \"42. 저전력 소모 장비\",\n",
    "                        \"value\": 1,\n",
    "                        \"itemStyle\": {\"color\": \"#94a76f\"},\n",
    "                    },\n",
    "                    {\n",
    "                        \"name\": \"43. 에너지하베스팅\",\n",
    "                        \"value\": 1,\n",
    "                        \"itemStyle\": {\"color\": \"#d0b24f\"},\n",
    "                    },\n",
    "                    {\n",
    "                        \"name\": \"44. 인공광합성\",\n",
    "                        \"value\": 1,\n",
    "                        \"itemStyle\": {\"color\": \"#8eb646\"},\n",
    "                    },\n",
    "                    {\n",
    "                        \"name\": \"45. 기타기술\",\n",
    "                        \"value\": 1,\n",
    "                        \"itemStyle\": {\"color\": \"#faef07\"},\n",
    "                    },\n",
    "                ],\n",
    "            },\n",
    "        ],\n",
    "    },\n",
    "]\n",
    "\n",
    "c = (\n",
    "    Sunburst(init_opts=opts.InitOpts(width=\"900px\", height=\"600px\"))\n",
    "    .add(\n",
    "        \"\",\n",
    "        data_pair=data,\n",
    "        highlight_policy=\"ancestor\",\n",
    "        radius=[0, \"95%\"],\n",
    "        sort_=\"null\",\n",
    "        levels=[\n",
    "            {},\n",
    "            {\n",
    "                \"r0\": \"15%\",\n",
    "                \"r\": \"40%\",\n",
    "                \"itemStyle\": {\"borderWidth\": 2},\n",
    "                \"label\": {\"rotate\": \"tangential\"},\n",
    "            },\n",
    "            {\"r0\": \"40%\", \"r\": \"73%\", \"label\": {\"align\": \"right\"}},\n",
    "           \n",
    "            {\n",
    "                \"r0\": \"73%\",\n",
    "                \"r\": \"75%\",\n",
    "                \"label\": {\"position\": \"outside\", \"padding\": 3, \"silent\": False},\n",
    "                \"itemStyle\": {\"borderWidth\": 3},\n",
    "            },\n",
    "        ],\n",
    "    )\n",
    "    .set_global_opts(title_opts=opts.TitleOpts(title=\"기후기술 분류체계\"))\n",
    "    .set_series_opts(label_opts=opts.LabelOpts(formatter=\"{b}\"))\n",
    "    .render(\"climate_tech.html\")\n",
    ")"
   ]
  }
 ],
 "metadata": {
  "kernelspec": {
   "display_name": "Python 3",
   "language": "python",
   "name": "python3"
  },
  "language_info": {
   "codemirror_mode": {
    "name": "ipython",
    "version": 3
   },
   "file_extension": ".py",
   "mimetype": "text/x-python",
   "name": "python",
   "nbconvert_exporter": "python",
   "pygments_lexer": "ipython3",
   "version": "3.8.5"
  }
 },
 "nbformat": 4,
 "nbformat_minor": 5
}
